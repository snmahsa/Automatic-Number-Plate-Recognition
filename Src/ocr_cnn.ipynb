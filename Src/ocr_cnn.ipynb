{
  "nbformat": 4,
  "nbformat_minor": 0,
  "metadata": {
    "colab": {
      "provenance": []
    },
    "kernelspec": {
      "name": "python3",
      "display_name": "Python 3"
    },
    "language_info": {
      "name": "python"
    }
  },
  "cells": [
    {
      "cell_type": "code",
      "execution_count": null,
      "metadata": {
        "colab": {
          "base_uri": "https://localhost:8080/"
        },
        "id": "qUvt39dOYukk",
        "outputId": "2aadbbbc-1f93-4c39-9f25-18960d730354"
      },
      "outputs": [
        {
          "output_type": "stream",
          "name": "stdout",
          "text": [
            "Mounted at /content/gdrive\n"
          ]
        }
      ],
      "source": [
        "from google.colab import drive\n",
        "drive.mount('/content/gdrive')"
      ]
    },
    {
      "cell_type": "code",
      "source": [
        "import tensorflow as tf\n",
        "import keras\n",
        "import random\n",
        "import matplotlib.pyplot as plt\n"
      ],
      "metadata": {
        "id": "MEgFXl8LbFoO"
      },
      "execution_count": null,
      "outputs": []
    },
    {
      "cell_type": "code",
      "source": [
        "import os\n",
        "import numpy as np\n",
        "import cv2 as cv"
      ],
      "metadata": {
        "id": "cKI9qyZbbLxp"
      },
      "execution_count": null,
      "outputs": []
    },
    {
      "cell_type": "code",
      "source": [
        "%cd /content/gdrive/MyDrive/Ocr"
      ],
      "metadata": {
        "colab": {
          "base_uri": "https://localhost:8080/"
        },
        "id": "BLA9At_naN5Q",
        "outputId": "92f88679-813f-4426-8832-437273877a50"
      },
      "execution_count": null,
      "outputs": [
        {
          "output_type": "stream",
          "name": "stdout",
          "text": [
            "/content/gdrive/MyDrive/Ocr\n"
          ]
        }
      ]
    },
    {
      "cell_type": "code",
      "source": [
        "dataset_path = '/content/gdrive/MyDrive/Ocr/plate_ocr_dataset/'"
      ],
      "metadata": {
        "id": "1Pl3nfhqaaw_"
      },
      "execution_count": null,
      "outputs": []
    },
    {
      "cell_type": "code",
      "source": [
        "\n",
        "train_path = dataset_path + \"train\"\n",
        "valid_path = dataset_path + \"valid\"\n",
        "test_path = dataset_path + \"test\""
      ],
      "metadata": {
        "id": "C3ElxmMNaWTc"
      },
      "execution_count": null,
      "outputs": []
    },
    {
      "cell_type": "code",
      "source": [
        "class_names = subdirs = ['0', '1', '2', '3', '4', '5', '6', '7', '8', '9', 'a', 'b', 'ch', 'd', 'ein', 'f', 'g', 'ghaf', 'ghein', 'h2', 'hj', 'j', 'k', 'kh', 'l', 'm', 'n', 'p', 'r', 's', 'sad', 'sh', 't', 'ta', 'th', 'v', 'y', 'z', 'za', 'zad', 'zal', 'zh']\n",
        "num_classes = len(class_names)"
      ],
      "metadata": {
        "id": "HlVZR4SzasVT"
      },
      "execution_count": null,
      "outputs": []
    },
    {
      "cell_type": "code",
      "source": [
        "labels_nums = [i for i in range(0,len(class_names))]\n",
        "print(labels_nums)"
      ],
      "metadata": {
        "colab": {
          "base_uri": "https://localhost:8080/"
        },
        "id": "tbh28V9ka4eW",
        "outputId": "6fb38316-01a2-4054-d80d-86510c481ac5"
      },
      "execution_count": null,
      "outputs": [
        {
          "output_type": "stream",
          "name": "stdout",
          "text": [
            "[0, 1, 2, 3, 4, 5, 6, 7, 8, 9, 10, 11, 12, 13, 14, 15, 16, 17, 18, 19, 20, 21, 22, 23, 24, 25, 26, 27, 28, 29, 30, 31, 32, 33, 34, 35, 36, 37, 38, 39, 40, 41]\n"
          ]
        }
      ]
    },
    {
      "cell_type": "code",
      "source": [
        "\n",
        "train_imgs = []\n",
        "train_labels = []\n",
        "for indx, subdir in enumerate(subdirs):\n",
        "  imgfolder = os.path.join(train_path, subdir)\n",
        "  for imgname in os.listdir(imgfolder):\n",
        "    img = cv.imread(os.path.join(imgfolder, imgname), 0)\n",
        "    train_imgs.append(img)\n",
        "    train_labels.append(labels_nums[indx])\n",
        "\n",
        "c = list(zip(train_imgs, train_labels))\n",
        "random.shuffle(c)\n",
        "train_imgs, train_labels = zip(*c)\n",
        "\n",
        "train_images = np.array(train_imgs)\n",
        "train_labels = np.array(train_labels)"
      ],
      "metadata": {
        "id": "5Brl4mvSa7q5"
      },
      "execution_count": null,
      "outputs": []
    },
    {
      "cell_type": "code",
      "source": [
        "valid_imgs = []\n",
        "valid_labels = []\n",
        "for indx, subdir in enumerate(subdirs):\n",
        "  imgfolder = os.path.join(valid_path, subdir)\n",
        "  if os.path.exists(imgfolder):\n",
        "    for imgname in os.listdir(imgfolder):\n",
        "      img = cv.imread(os.path.join(imgfolder, imgname), 0)\n",
        "      valid_imgs.append(img)\n",
        "      valid_labels.append(labels_nums[indx])\n",
        "\n",
        "c = list(zip(valid_imgs, valid_labels))\n",
        "random.shuffle(c)\n",
        "valid_imgs, valid_labels = zip(*c)\n",
        "\n",
        "test_images = np.array(valid_imgs)\n",
        "test_labels = np.array(valid_labels)\n"
      ],
      "metadata": {
        "id": "I-hTPt84bAre"
      },
      "execution_count": null,
      "outputs": []
    },
    {
      "cell_type": "code",
      "source": [
        "num=90\n",
        "print(class_names[train_labels[num]])\n",
        "print(train_labels[num])\n",
        "plt.imshow(train_images[num])\n"
      ],
      "metadata": {
        "colab": {
          "base_uri": "https://localhost:8080/",
          "height": 229
        },
        "id": "UZCe1Mr_bYnp",
        "outputId": "8575070b-41e4-43ee-c927-0883ecd8b239"
      },
      "execution_count": null,
      "outputs": [
        {
          "output_type": "error",
          "ename": "NameError",
          "evalue": "ignored",
          "traceback": [
            "\u001b[0;31m---------------------------------------------------------------------------\u001b[0m",
            "\u001b[0;31mNameError\u001b[0m                                 Traceback (most recent call last)",
            "\u001b[0;32m<ipython-input-12-c4527a3913a5>\u001b[0m in \u001b[0;36m<cell line: 3>\u001b[0;34m()\u001b[0m\n\u001b[1;32m      1\u001b[0m \u001b[0mnum\u001b[0m\u001b[0;34m=\u001b[0m\u001b[0;36m90\u001b[0m\u001b[0;34m\u001b[0m\u001b[0;34m\u001b[0m\u001b[0m\n\u001b[1;32m      2\u001b[0m \u001b[0;31m# print(class_names[train_labels[num]])\u001b[0m\u001b[0;34m\u001b[0m\u001b[0;34m\u001b[0m\u001b[0m\n\u001b[0;32m----> 3\u001b[0;31m \u001b[0mprint\u001b[0m\u001b[0;34m(\u001b[0m\u001b[0mtrain_labels\u001b[0m\u001b[0;34m[\u001b[0m\u001b[0mnum\u001b[0m\u001b[0;34m]\u001b[0m\u001b[0;34m)\u001b[0m\u001b[0;34m\u001b[0m\u001b[0;34m\u001b[0m\u001b[0m\n\u001b[0m\u001b[1;32m      4\u001b[0m \u001b[0mplt\u001b[0m\u001b[0;34m.\u001b[0m\u001b[0mimshow\u001b[0m\u001b[0;34m(\u001b[0m\u001b[0mtrain_images\u001b[0m\u001b[0;34m[\u001b[0m\u001b[0mnum\u001b[0m\u001b[0;34m]\u001b[0m\u001b[0;34m)\u001b[0m\u001b[0;34m\u001b[0m\u001b[0;34m\u001b[0m\u001b[0m\n",
            "\u001b[0;31mNameError\u001b[0m: name 'train_labels' is not defined"
          ]
        }
      ]
    },
    {
      "cell_type": "code",
      "source": [
        "\n",
        "test_labels.shape"
      ],
      "metadata": {
        "colab": {
          "base_uri": "https://localhost:8080/"
        },
        "id": "BZJiFh-Ubo9f",
        "outputId": "490c5785-ced9-4def-c57f-3836521df4a4"
      },
      "execution_count": null,
      "outputs": [
        {
          "output_type": "execute_result",
          "data": {
            "text/plain": [
              "(792,)"
            ]
          },
          "metadata": {},
          "execution_count": 18
        }
      ]
    },
    {
      "cell_type": "code",
      "source": [
        "\n",
        "train_images = train_images / 255.0\n",
        "test_images = test_images / 255.0"
      ],
      "metadata": {
        "id": "YKTxEoJ6bqSo"
      },
      "execution_count": null,
      "outputs": []
    },
    {
      "cell_type": "code",
      "source": [
        "\n",
        "model = keras.Sequential([\n",
        "    keras.layers.Flatten(input_shape=(28, 28)),\n",
        "    keras.layers.Dense(128, activation=tf.nn.relu),\n",
        "    keras.layers.Dense(num_classes, activation=tf.nn.softmax)\n",
        "])"
      ],
      "metadata": {
        "id": "n2dRxqu_bs8C"
      },
      "execution_count": null,
      "outputs": []
    },
    {
      "cell_type": "code",
      "source": [
        "\n",
        "model.compile(optimizer='adam',\n",
        "              loss='sparse_categorical_crossentropy',\n",
        "              metrics=['accuracy'])"
      ],
      "metadata": {
        "id": "HmfX_zZDbuem"
      },
      "execution_count": null,
      "outputs": []
    },
    {
      "cell_type": "code",
      "source": [
        "model.fit(train_images, train_labels, epochs=200)"
      ],
      "metadata": {
        "colab": {
          "base_uri": "https://localhost:8080/"
        },
        "id": "Y4pV7QPTbwB7",
        "outputId": "00b723c2-db5b-4748-e380-e6223b59805e"
      },
      "execution_count": null,
      "outputs": [
        {
          "output_type": "stream",
          "name": "stdout",
          "text": [
            "Epoch 1/200\n",
            "261/261 [==============================] - 2s 4ms/step - loss: 3.2719 - accuracy: 0.1451\n",
            "Epoch 2/200\n",
            "261/261 [==============================] - 1s 4ms/step - loss: 2.3335 - accuracy: 0.3662\n",
            "Epoch 3/200\n",
            "261/261 [==============================] - 1s 4ms/step - loss: 1.9376 - accuracy: 0.4492\n",
            "Epoch 4/200\n",
            "261/261 [==============================] - 1s 4ms/step - loss: 1.7327 - accuracy: 0.5065\n",
            "Epoch 5/200\n",
            "261/261 [==============================] - 2s 7ms/step - loss: 1.5876 - accuracy: 0.5480\n",
            "Epoch 6/200\n",
            "261/261 [==============================] - 2s 6ms/step - loss: 1.4928 - accuracy: 0.5697\n",
            "Epoch 7/200\n",
            "261/261 [==============================] - 2s 6ms/step - loss: 1.3965 - accuracy: 0.5973\n",
            "Epoch 8/200\n",
            "261/261 [==============================] - 2s 7ms/step - loss: 1.3156 - accuracy: 0.6199\n",
            "Epoch 9/200\n",
            "261/261 [==============================] - 2s 7ms/step - loss: 1.2416 - accuracy: 0.6412\n",
            "Epoch 10/200\n",
            "261/261 [==============================] - 1s 4ms/step - loss: 1.1788 - accuracy: 0.6582\n",
            "Epoch 11/200\n",
            "261/261 [==============================] - 1s 4ms/step - loss: 1.1052 - accuracy: 0.6814\n",
            "Epoch 12/200\n",
            "261/261 [==============================] - 1s 4ms/step - loss: 1.0460 - accuracy: 0.6957\n",
            "Epoch 13/200\n",
            "261/261 [==============================] - 1s 4ms/step - loss: 0.9932 - accuracy: 0.7137\n",
            "Epoch 14/200\n",
            "261/261 [==============================] - 1s 4ms/step - loss: 0.9359 - accuracy: 0.7310\n",
            "Epoch 15/200\n",
            "261/261 [==============================] - 1s 4ms/step - loss: 0.8869 - accuracy: 0.7480\n",
            "Epoch 16/200\n",
            "261/261 [==============================] - 1s 4ms/step - loss: 0.8482 - accuracy: 0.7547\n",
            "Epoch 17/200\n",
            "261/261 [==============================] - 1s 4ms/step - loss: 0.8036 - accuracy: 0.7636\n",
            "Epoch 18/200\n",
            "261/261 [==============================] - 1s 4ms/step - loss: 0.7575 - accuracy: 0.7852\n",
            "Epoch 19/200\n",
            "261/261 [==============================] - 2s 7ms/step - loss: 0.7230 - accuracy: 0.8020\n",
            "Epoch 20/200\n",
            "261/261 [==============================] - 2s 7ms/step - loss: 0.6768 - accuracy: 0.8056\n",
            "Epoch 21/200\n",
            "261/261 [==============================] - 2s 7ms/step - loss: 0.6477 - accuracy: 0.8154\n",
            "Epoch 22/200\n",
            "261/261 [==============================] - 2s 6ms/step - loss: 0.6137 - accuracy: 0.8323\n",
            "Epoch 23/200\n",
            "261/261 [==============================] - 2s 6ms/step - loss: 0.5917 - accuracy: 0.8308\n",
            "Epoch 24/200\n",
            "261/261 [==============================] - 1s 4ms/step - loss: 0.5564 - accuracy: 0.8432\n",
            "Epoch 25/200\n",
            "261/261 [==============================] - 1s 4ms/step - loss: 0.5327 - accuracy: 0.8519\n",
            "Epoch 26/200\n",
            "261/261 [==============================] - 1s 4ms/step - loss: 0.5078 - accuracy: 0.8612\n",
            "Epoch 27/200\n",
            "261/261 [==============================] - 1s 4ms/step - loss: 0.4811 - accuracy: 0.8706\n",
            "Epoch 28/200\n",
            "261/261 [==============================] - 1s 4ms/step - loss: 0.4527 - accuracy: 0.8790\n",
            "Epoch 29/200\n",
            "261/261 [==============================] - 1s 4ms/step - loss: 0.4337 - accuracy: 0.8815\n",
            "Epoch 30/200\n",
            "261/261 [==============================] - 1s 4ms/step - loss: 0.4155 - accuracy: 0.8882\n",
            "Epoch 31/200\n",
            "261/261 [==============================] - 1s 4ms/step - loss: 0.3976 - accuracy: 0.8910\n",
            "Epoch 32/200\n",
            "261/261 [==============================] - 1s 4ms/step - loss: 0.3874 - accuracy: 0.8919\n",
            "Epoch 33/200\n",
            "261/261 [==============================] - 2s 7ms/step - loss: 0.3596 - accuracy: 0.9043\n",
            "Epoch 34/200\n",
            "261/261 [==============================] - 2s 7ms/step - loss: 0.3518 - accuracy: 0.9026\n",
            "Epoch 35/200\n",
            "261/261 [==============================] - 2s 6ms/step - loss: 0.3255 - accuracy: 0.9163\n",
            "Epoch 36/200\n",
            "261/261 [==============================] - 2s 7ms/step - loss: 0.3114 - accuracy: 0.9211\n",
            "Epoch 37/200\n",
            "261/261 [==============================] - 2s 6ms/step - loss: 0.2940 - accuracy: 0.9232\n",
            "Epoch 38/200\n",
            "261/261 [==============================] - 1s 4ms/step - loss: 0.2902 - accuracy: 0.9228\n",
            "Epoch 39/200\n",
            "261/261 [==============================] - 1s 4ms/step - loss: 0.2657 - accuracy: 0.9335\n",
            "Epoch 40/200\n",
            "261/261 [==============================] - 1s 4ms/step - loss: 0.2620 - accuracy: 0.9346\n",
            "Epoch 41/200\n",
            "261/261 [==============================] - 1s 4ms/step - loss: 0.2511 - accuracy: 0.9353\n",
            "Epoch 42/200\n",
            "261/261 [==============================] - 1s 4ms/step - loss: 0.2478 - accuracy: 0.9343\n",
            "Epoch 43/200\n",
            "261/261 [==============================] - 1s 4ms/step - loss: 0.2318 - accuracy: 0.9429\n",
            "Epoch 44/200\n",
            "261/261 [==============================] - 1s 4ms/step - loss: 0.2120 - accuracy: 0.9499\n",
            "Epoch 45/200\n",
            "261/261 [==============================] - 1s 4ms/step - loss: 0.2100 - accuracy: 0.9478\n",
            "Epoch 46/200\n",
            "261/261 [==============================] - 1s 4ms/step - loss: 0.1942 - accuracy: 0.9536\n",
            "Epoch 47/200\n",
            "261/261 [==============================] - 2s 6ms/step - loss: 0.1897 - accuracy: 0.9559\n",
            "Epoch 48/200\n",
            "261/261 [==============================] - 2s 8ms/step - loss: 0.1902 - accuracy: 0.9515\n",
            "Epoch 49/200\n",
            "261/261 [==============================] - 2s 7ms/step - loss: 0.1730 - accuracy: 0.9605\n",
            "Epoch 50/200\n",
            "261/261 [==============================] - 2s 7ms/step - loss: 0.1612 - accuracy: 0.9643\n",
            "Epoch 51/200\n",
            "261/261 [==============================] - 2s 6ms/step - loss: 0.1620 - accuracy: 0.9622\n",
            "Epoch 52/200\n",
            "261/261 [==============================] - 1s 4ms/step - loss: 0.1505 - accuracy: 0.9664\n",
            "Epoch 53/200\n",
            "261/261 [==============================] - 1s 4ms/step - loss: 0.1490 - accuracy: 0.9665\n",
            "Epoch 54/200\n",
            "261/261 [==============================] - 1s 4ms/step - loss: 0.1271 - accuracy: 0.9743\n",
            "Epoch 55/200\n",
            "261/261 [==============================] - 1s 4ms/step - loss: 0.1392 - accuracy: 0.9701\n",
            "Epoch 56/200\n",
            "261/261 [==============================] - 1s 4ms/step - loss: 0.1427 - accuracy: 0.9663\n",
            "Epoch 57/200\n",
            "261/261 [==============================] - 1s 4ms/step - loss: 0.1173 - accuracy: 0.9764\n",
            "Epoch 58/200\n",
            "261/261 [==============================] - 1s 4ms/step - loss: 0.1101 - accuracy: 0.9788\n",
            "Epoch 59/200\n",
            "261/261 [==============================] - 1s 4ms/step - loss: 0.1138 - accuracy: 0.9770\n",
            "Epoch 60/200\n",
            "261/261 [==============================] - 1s 4ms/step - loss: 0.1144 - accuracy: 0.9747\n",
            "Epoch 61/200\n",
            "261/261 [==============================] - 1s 5ms/step - loss: 0.1027 - accuracy: 0.9778\n",
            "Epoch 62/200\n",
            "261/261 [==============================] - 2s 6ms/step - loss: 0.0914 - accuracy: 0.9842\n",
            "Epoch 63/200\n",
            "261/261 [==============================] - 2s 7ms/step - loss: 0.1052 - accuracy: 0.9769\n",
            "Epoch 64/200\n",
            "261/261 [==============================] - 2s 6ms/step - loss: 0.0892 - accuracy: 0.9842\n",
            "Epoch 65/200\n",
            "261/261 [==============================] - 2s 6ms/step - loss: 0.0884 - accuracy: 0.9832\n",
            "Epoch 66/200\n",
            "261/261 [==============================] - 1s 5ms/step - loss: 0.0870 - accuracy: 0.9814\n",
            "Epoch 67/200\n",
            "261/261 [==============================] - 1s 4ms/step - loss: 0.0886 - accuracy: 0.9810\n",
            "Epoch 68/200\n",
            "261/261 [==============================] - 1s 4ms/step - loss: 0.0724 - accuracy: 0.9887\n",
            "Epoch 69/200\n",
            "261/261 [==============================] - 1s 4ms/step - loss: 0.0731 - accuracy: 0.9874\n",
            "Epoch 70/200\n",
            "261/261 [==============================] - 1s 4ms/step - loss: 0.0746 - accuracy: 0.9864\n",
            "Epoch 71/200\n",
            "261/261 [==============================] - 1s 4ms/step - loss: 0.0671 - accuracy: 0.9878\n",
            "Epoch 72/200\n",
            "261/261 [==============================] - 1s 4ms/step - loss: 0.0756 - accuracy: 0.9854\n",
            "Epoch 73/200\n",
            "261/261 [==============================] - 1s 4ms/step - loss: 0.0665 - accuracy: 0.9874\n",
            "Epoch 74/200\n",
            "261/261 [==============================] - 1s 4ms/step - loss: 0.0535 - accuracy: 0.9917\n",
            "Epoch 75/200\n",
            "261/261 [==============================] - 1s 4ms/step - loss: 0.0431 - accuracy: 0.9956\n",
            "Epoch 76/200\n",
            "261/261 [==============================] - 1s 5ms/step - loss: 0.0573 - accuracy: 0.9897\n",
            "Epoch 77/200\n",
            "261/261 [==============================] - 2s 6ms/step - loss: 0.0718 - accuracy: 0.9846\n",
            "Epoch 78/200\n",
            "261/261 [==============================] - 2s 6ms/step - loss: 0.0386 - accuracy: 0.9952\n",
            "Epoch 79/200\n",
            "261/261 [==============================] - 2s 6ms/step - loss: 0.0774 - accuracy: 0.9813\n",
            "Epoch 80/200\n",
            "261/261 [==============================] - 2s 6ms/step - loss: 0.0656 - accuracy: 0.9844\n",
            "Epoch 81/200\n",
            "261/261 [==============================] - 1s 5ms/step - loss: 0.0444 - accuracy: 0.9926\n",
            "Epoch 82/200\n",
            "261/261 [==============================] - 1s 4ms/step - loss: 0.0286 - accuracy: 0.9980\n",
            "Epoch 83/200\n",
            "261/261 [==============================] - 1s 4ms/step - loss: 0.0391 - accuracy: 0.9946\n",
            "Epoch 84/200\n",
            "261/261 [==============================] - 1s 4ms/step - loss: 0.0400 - accuracy: 0.9946\n",
            "Epoch 85/200\n",
            "261/261 [==============================] - 1s 4ms/step - loss: 0.1053 - accuracy: 0.9674\n",
            "Epoch 86/200\n",
            "261/261 [==============================] - 1s 4ms/step - loss: 0.0778 - accuracy: 0.9790\n",
            "Epoch 87/200\n",
            "261/261 [==============================] - 1s 4ms/step - loss: 0.0218 - accuracy: 0.9992\n",
            "Epoch 88/200\n",
            "261/261 [==============================] - 1s 4ms/step - loss: 0.0207 - accuracy: 0.9982\n",
            "Epoch 89/200\n",
            "261/261 [==============================] - 1s 4ms/step - loss: 0.0355 - accuracy: 0.9951\n",
            "Epoch 90/200\n",
            "261/261 [==============================] - 1s 4ms/step - loss: 0.0409 - accuracy: 0.9921\n",
            "Epoch 91/200\n",
            "261/261 [==============================] - 2s 6ms/step - loss: 0.0300 - accuracy: 0.9964\n",
            "Epoch 92/200\n",
            "261/261 [==============================] - 2s 7ms/step - loss: 0.0448 - accuracy: 0.9914\n",
            "Epoch 93/200\n",
            "261/261 [==============================] - 2s 6ms/step - loss: 0.0237 - accuracy: 0.9978\n",
            "Epoch 94/200\n",
            "261/261 [==============================] - 2s 6ms/step - loss: 0.0206 - accuracy: 0.9986\n",
            "Epoch 95/200\n",
            "261/261 [==============================] - 2s 6ms/step - loss: 0.0198 - accuracy: 0.9982\n",
            "Epoch 96/200\n",
            "261/261 [==============================] - 1s 5ms/step - loss: 0.1780 - accuracy: 0.9429\n",
            "Epoch 97/200\n",
            "261/261 [==============================] - 1s 4ms/step - loss: 0.0186 - accuracy: 0.9990\n",
            "Epoch 98/200\n",
            "261/261 [==============================] - 1s 4ms/step - loss: 0.0119 - accuracy: 0.9996\n",
            "Epoch 99/200\n",
            "261/261 [==============================] - 1s 4ms/step - loss: 0.0109 - accuracy: 1.0000\n",
            "Epoch 100/200\n",
            "261/261 [==============================] - 1s 4ms/step - loss: 0.0107 - accuracy: 1.0000\n",
            "Epoch 101/200\n",
            "261/261 [==============================] - 1s 4ms/step - loss: 0.0563 - accuracy: 0.9836\n",
            "Epoch 102/200\n",
            "261/261 [==============================] - 1s 4ms/step - loss: 0.1136 - accuracy: 0.9656\n",
            "Epoch 103/200\n",
            "261/261 [==============================] - 1s 4ms/step - loss: 0.0177 - accuracy: 0.9984\n",
            "Epoch 104/200\n",
            "261/261 [==============================] - 1s 4ms/step - loss: 0.0093 - accuracy: 1.0000\n",
            "Epoch 105/200\n",
            "261/261 [==============================] - 1s 4ms/step - loss: 0.0091 - accuracy: 1.0000\n",
            "Epoch 106/200\n",
            "261/261 [==============================] - 2s 7ms/step - loss: 0.0082 - accuracy: 1.0000\n",
            "Epoch 107/200\n",
            "261/261 [==============================] - 2s 6ms/step - loss: 0.0082 - accuracy: 1.0000\n",
            "Epoch 108/200\n",
            "261/261 [==============================] - 2s 6ms/step - loss: 0.0855 - accuracy: 0.9737\n",
            "Epoch 109/200\n",
            "261/261 [==============================] - 2s 6ms/step - loss: 0.0473 - accuracy: 0.9879\n",
            "Epoch 110/200\n",
            "261/261 [==============================] - 2s 7ms/step - loss: 0.0092 - accuracy: 1.0000\n",
            "Epoch 111/200\n",
            "261/261 [==============================] - 1s 4ms/step - loss: 0.0075 - accuracy: 1.0000\n",
            "Epoch 112/200\n",
            "261/261 [==============================] - 1s 4ms/step - loss: 0.0070 - accuracy: 1.0000\n",
            "Epoch 113/200\n",
            "261/261 [==============================] - 1s 4ms/step - loss: 0.0156 - accuracy: 0.9980\n",
            "Epoch 114/200\n",
            "261/261 [==============================] - 1s 4ms/step - loss: 0.1528 - accuracy: 0.9501\n",
            "Epoch 115/200\n",
            "261/261 [==============================] - 1s 4ms/step - loss: 0.0241 - accuracy: 0.9952\n",
            "Epoch 116/200\n",
            "261/261 [==============================] - 1s 4ms/step - loss: 0.0077 - accuracy: 1.0000\n",
            "Epoch 117/200\n",
            "261/261 [==============================] - 1s 4ms/step - loss: 0.0065 - accuracy: 1.0000\n",
            "Epoch 118/200\n",
            "261/261 [==============================] - 1s 4ms/step - loss: 0.0063 - accuracy: 1.0000\n",
            "Epoch 119/200\n",
            "261/261 [==============================] - 1s 4ms/step - loss: 0.0059 - accuracy: 1.0000\n",
            "Epoch 120/200\n",
            "261/261 [==============================] - 1s 5ms/step - loss: 0.0057 - accuracy: 1.0000\n",
            "Epoch 121/200\n",
            "261/261 [==============================] - 2s 6ms/step - loss: 0.0091 - accuracy: 0.9992\n",
            "Epoch 122/200\n",
            "261/261 [==============================] - 2s 7ms/step - loss: 0.1682 - accuracy: 0.9517\n",
            "Epoch 123/200\n",
            "261/261 [==============================] - 2s 6ms/step - loss: 0.0116 - accuracy: 0.9992\n",
            "Epoch 124/200\n",
            "261/261 [==============================] - 2s 6ms/step - loss: 0.0061 - accuracy: 1.0000\n",
            "Epoch 125/200\n",
            "261/261 [==============================] - 2s 6ms/step - loss: 0.0053 - accuracy: 1.0000\n",
            "Epoch 126/200\n",
            "261/261 [==============================] - 1s 4ms/step - loss: 0.0050 - accuracy: 1.0000\n",
            "Epoch 127/200\n",
            "261/261 [==============================] - 1s 4ms/step - loss: 0.0047 - accuracy: 1.0000\n",
            "Epoch 128/200\n",
            "261/261 [==============================] - 1s 4ms/step - loss: 0.0049 - accuracy: 1.0000\n",
            "Epoch 129/200\n",
            "261/261 [==============================] - 1s 4ms/step - loss: 0.0046 - accuracy: 1.0000\n",
            "Epoch 130/200\n",
            "261/261 [==============================] - 1s 4ms/step - loss: 0.0043 - accuracy: 1.0000\n",
            "Epoch 131/200\n",
            "261/261 [==============================] - 1s 4ms/step - loss: 0.0045 - accuracy: 1.0000\n",
            "Epoch 132/200\n",
            "261/261 [==============================] - 1s 4ms/step - loss: 0.1664 - accuracy: 0.9550\n",
            "Epoch 133/200\n",
            "261/261 [==============================] - 1s 4ms/step - loss: 0.0888 - accuracy: 0.9730\n",
            "Epoch 134/200\n",
            "261/261 [==============================] - 1s 4ms/step - loss: 0.0080 - accuracy: 0.9994\n",
            "Epoch 135/200\n",
            "261/261 [==============================] - 1s 6ms/step - loss: 0.0050 - accuracy: 1.0000\n",
            "Epoch 136/200\n",
            "261/261 [==============================] - 2s 6ms/step - loss: 0.0044 - accuracy: 1.0000\n",
            "Epoch 137/200\n",
            "261/261 [==============================] - 2s 7ms/step - loss: 0.0041 - accuracy: 1.0000\n",
            "Epoch 138/200\n",
            "261/261 [==============================] - 2s 7ms/step - loss: 0.0039 - accuracy: 1.0000\n",
            "Epoch 139/200\n",
            "261/261 [==============================] - 2s 6ms/step - loss: 0.0037 - accuracy: 1.0000\n",
            "Epoch 140/200\n",
            "261/261 [==============================] - 1s 4ms/step - loss: 0.0036 - accuracy: 1.0000\n",
            "Epoch 141/200\n",
            "261/261 [==============================] - 1s 4ms/step - loss: 0.0034 - accuracy: 1.0000\n",
            "Epoch 142/200\n",
            "261/261 [==============================] - 1s 4ms/step - loss: 0.0034 - accuracy: 1.0000\n",
            "Epoch 143/200\n",
            "261/261 [==============================] - 1s 4ms/step - loss: 0.0033 - accuracy: 1.0000\n",
            "Epoch 144/200\n",
            "261/261 [==============================] - 1s 4ms/step - loss: 0.0035 - accuracy: 1.0000\n",
            "Epoch 145/200\n",
            "261/261 [==============================] - 1s 4ms/step - loss: 0.0035 - accuracy: 1.0000\n",
            "Epoch 146/200\n",
            "261/261 [==============================] - 1s 4ms/step - loss: 0.2318 - accuracy: 0.9411\n",
            "Epoch 147/200\n",
            "261/261 [==============================] - 1s 4ms/step - loss: 0.0441 - accuracy: 0.9849\n",
            "Epoch 148/200\n",
            "261/261 [==============================] - 1s 4ms/step - loss: 0.0062 - accuracy: 1.0000\n",
            "Epoch 149/200\n",
            "261/261 [==============================] - 1s 4ms/step - loss: 0.0039 - accuracy: 1.0000\n",
            "Epoch 150/200\n",
            "261/261 [==============================] - 2s 6ms/step - loss: 0.0034 - accuracy: 1.0000\n",
            "Epoch 151/200\n",
            "261/261 [==============================] - 2s 6ms/step - loss: 0.0031 - accuracy: 1.0000\n",
            "Epoch 152/200\n",
            "261/261 [==============================] - 2s 6ms/step - loss: 0.0029 - accuracy: 1.0000\n",
            "Epoch 153/200\n",
            "261/261 [==============================] - 2s 7ms/step - loss: 0.0028 - accuracy: 1.0000\n",
            "Epoch 154/200\n",
            "261/261 [==============================] - 2s 6ms/step - loss: 0.0027 - accuracy: 1.0000\n",
            "Epoch 155/200\n",
            "261/261 [==============================] - 1s 4ms/step - loss: 0.0025 - accuracy: 1.0000\n",
            "Epoch 156/200\n",
            "261/261 [==============================] - 1s 4ms/step - loss: 0.0028 - accuracy: 1.0000\n",
            "Epoch 157/200\n",
            "261/261 [==============================] - 1s 4ms/step - loss: 0.0024 - accuracy: 1.0000\n",
            "Epoch 158/200\n",
            "261/261 [==============================] - 1s 4ms/step - loss: 0.0024 - accuracy: 1.0000\n",
            "Epoch 159/200\n",
            "261/261 [==============================] - 1s 4ms/step - loss: 0.1612 - accuracy: 0.9556\n",
            "Epoch 160/200\n",
            "261/261 [==============================] - 1s 4ms/step - loss: 0.0912 - accuracy: 0.9715\n",
            "Epoch 161/200\n",
            "261/261 [==============================] - 1s 4ms/step - loss: 0.0158 - accuracy: 0.9963\n",
            "Epoch 162/200\n",
            "261/261 [==============================] - 1s 4ms/step - loss: 0.0036 - accuracy: 1.0000\n",
            "Epoch 163/200\n",
            "261/261 [==============================] - 1s 4ms/step - loss: 0.0029 - accuracy: 1.0000\n",
            "Epoch 164/200\n",
            "261/261 [==============================] - 1s 6ms/step - loss: 0.0028 - accuracy: 1.0000\n",
            "Epoch 165/200\n",
            "261/261 [==============================] - 2s 6ms/step - loss: 0.0025 - accuracy: 1.0000\n",
            "Epoch 166/200\n",
            "261/261 [==============================] - 2s 6ms/step - loss: 0.0024 - accuracy: 1.0000\n",
            "Epoch 167/200\n",
            "261/261 [==============================] - 2s 6ms/step - loss: 0.0023 - accuracy: 1.0000\n",
            "Epoch 168/200\n",
            "261/261 [==============================] - 2s 7ms/step - loss: 0.0022 - accuracy: 1.0000\n",
            "Epoch 169/200\n",
            "261/261 [==============================] - 1s 5ms/step - loss: 0.0021 - accuracy: 1.0000\n",
            "Epoch 170/200\n",
            "261/261 [==============================] - 1s 4ms/step - loss: 0.0020 - accuracy: 1.0000\n",
            "Epoch 171/200\n",
            "261/261 [==============================] - 1s 4ms/step - loss: 0.0019 - accuracy: 1.0000\n",
            "Epoch 172/200\n",
            "261/261 [==============================] - 1s 4ms/step - loss: 0.0019 - accuracy: 1.0000\n",
            "Epoch 173/200\n",
            "261/261 [==============================] - 1s 4ms/step - loss: 0.0018 - accuracy: 1.0000\n",
            "Epoch 174/200\n",
            "261/261 [==============================] - 1s 4ms/step - loss: 0.0018 - accuracy: 1.0000\n",
            "Epoch 175/200\n",
            "261/261 [==============================] - 1s 4ms/step - loss: 0.1918 - accuracy: 0.9566\n",
            "Epoch 176/200\n",
            "261/261 [==============================] - 1s 4ms/step - loss: 0.0951 - accuracy: 0.9697\n",
            "Epoch 177/200\n",
            "261/261 [==============================] - 1s 4ms/step - loss: 0.0059 - accuracy: 0.9996\n",
            "Epoch 178/200\n",
            "261/261 [==============================] - 1s 5ms/step - loss: 0.0026 - accuracy: 1.0000\n",
            "Epoch 179/200\n",
            "261/261 [==============================] - 2s 6ms/step - loss: 0.0023 - accuracy: 1.0000\n",
            "Epoch 180/200\n",
            "261/261 [==============================] - 2s 6ms/step - loss: 0.0021 - accuracy: 1.0000\n",
            "Epoch 181/200\n",
            "261/261 [==============================] - 2s 7ms/step - loss: 0.0020 - accuracy: 1.0000\n",
            "Epoch 182/200\n",
            "261/261 [==============================] - 2s 6ms/step - loss: 0.0019 - accuracy: 1.0000\n",
            "Epoch 183/200\n",
            "261/261 [==============================] - 2s 6ms/step - loss: 0.0018 - accuracy: 1.0000\n",
            "Epoch 184/200\n",
            "261/261 [==============================] - 1s 4ms/step - loss: 0.0018 - accuracy: 1.0000\n",
            "Epoch 185/200\n",
            "261/261 [==============================] - 1s 4ms/step - loss: 0.0017 - accuracy: 1.0000\n",
            "Epoch 186/200\n",
            "261/261 [==============================] - 1s 4ms/step - loss: 0.0016 - accuracy: 1.0000\n",
            "Epoch 187/200\n",
            "261/261 [==============================] - 1s 4ms/step - loss: 0.0016 - accuracy: 1.0000\n",
            "Epoch 188/200\n",
            "261/261 [==============================] - 1s 4ms/step - loss: 0.0015 - accuracy: 1.0000\n",
            "Epoch 189/200\n",
            "261/261 [==============================] - 1s 4ms/step - loss: 0.0014 - accuracy: 1.0000\n",
            "Epoch 190/200\n",
            "261/261 [==============================] - 1s 4ms/step - loss: 0.0014 - accuracy: 1.0000\n",
            "Epoch 191/200\n",
            "261/261 [==============================] - 1s 4ms/step - loss: 0.0014 - accuracy: 1.0000\n",
            "Epoch 192/200\n",
            "261/261 [==============================] - 1s 4ms/step - loss: 0.2255 - accuracy: 0.9440\n",
            "Epoch 193/200\n",
            "261/261 [==============================] - 2s 6ms/step - loss: 0.0470 - accuracy: 0.9856\n",
            "Epoch 194/200\n",
            "261/261 [==============================] - 2s 7ms/step - loss: 0.0036 - accuracy: 1.0000\n",
            "Epoch 195/200\n",
            "261/261 [==============================] - 2s 6ms/step - loss: 0.0025 - accuracy: 1.0000\n",
            "Epoch 196/200\n",
            "261/261 [==============================] - 2s 6ms/step - loss: 0.0021 - accuracy: 1.0000\n",
            "Epoch 197/200\n",
            "261/261 [==============================] - 2s 6ms/step - loss: 0.0019 - accuracy: 1.0000\n",
            "Epoch 198/200\n",
            "261/261 [==============================] - 1s 5ms/step - loss: 0.0018 - accuracy: 1.0000\n",
            "Epoch 199/200\n",
            "261/261 [==============================] - 1s 4ms/step - loss: 0.0017 - accuracy: 1.0000\n",
            "Epoch 200/200\n",
            "261/261 [==============================] - 1s 4ms/step - loss: 0.0016 - accuracy: 1.0000\n"
          ]
        },
        {
          "output_type": "execute_result",
          "data": {
            "text/plain": [
              "<keras.src.callbacks.History at 0x79d02c25e500>"
            ]
          },
          "metadata": {},
          "execution_count": 22
        }
      ]
    },
    {
      "cell_type": "code",
      "source": [
        "\n",
        "predictions = model.predict(test_images)"
      ],
      "metadata": {
        "colab": {
          "base_uri": "https://localhost:8080/"
        },
        "id": "ezlP93g9f_jl",
        "outputId": "cdf1d35e-5b9a-49f3-cc76-4f4d5a0d0fb5"
      },
      "execution_count": null,
      "outputs": [
        {
          "output_type": "stream",
          "name": "stdout",
          "text": [
            "25/25 [==============================] - 0s 2ms/step\n"
          ]
        }
      ]
    },
    {
      "cell_type": "code",
      "source": [
        "model.save('saved_model/simple_ocr_plates_model')"
      ],
      "metadata": {
        "id": "WO7bgFPJgBvU"
      },
      "execution_count": null,
      "outputs": []
    },
    {
      "cell_type": "markdown",
      "source": [
        "#Test Model"
      ],
      "metadata": {
        "id": "U3UDJ3wzoFO-"
      }
    },
    {
      "cell_type": "code",
      "source": [
        "\n",
        "!zip -r /content/gdrive/MyDrive/Ocr/saved_model/simple_ocr_plates_model"
      ],
      "metadata": {
        "id": "ABM0JHi3gLlZ",
        "colab": {
          "base_uri": "https://localhost:8080/"
        },
        "outputId": "30b40e27-abce-43b3-e2c2-e13c6402e1c9"
      },
      "execution_count": null,
      "outputs": [
        {
          "output_type": "stream",
          "name": "stdout",
          "text": [
            "\n",
            "zip error: Nothing to do! (/content/gdrive/MyDrive/Ocr/saved_model/simple_ocr_plates_model.zip)\n"
          ]
        }
      ]
    },
    {
      "cell_type": "code",
      "source": [
        "ocr_model = tf.keras.models.load_model('/content/gdrive/MyDrive/Ocr/saved_model/simple_ocr_plates_model')"
      ],
      "metadata": {
        "id": "Qd5Om_TXgNqe"
      },
      "execution_count": null,
      "outputs": []
    },
    {
      "cell_type": "code",
      "source": [
        "test_img_path = \"/content/gdrive/MyDrive/Ocr/9.jpg\"\n",
        "test_img = cv.imread(test_img_path, 0)\n",
        "test_img = np.expand_dims(test_img, axis=0)\n",
        "predictions = ocr_model.predict(test_img)"
      ],
      "metadata": {
        "id": "UDREDYdZgPEk",
        "colab": {
          "base_uri": "https://localhost:8080/"
        },
        "outputId": "d19aa10a-4ead-4b0b-e4cd-ad52d045c65a"
      },
      "execution_count": null,
      "outputs": [
        {
          "output_type": "stream",
          "name": "stdout",
          "text": [
            "1/1 [==============================] - 0s 254ms/step\n"
          ]
        }
      ]
    },
    {
      "cell_type": "code",
      "source": [
        "\n",
        "class_names[np.argmax(predictions)]"
      ],
      "metadata": {
        "id": "DktSzFk9gRBN",
        "colab": {
          "base_uri": "https://localhost:8080/",
          "height": 35
        },
        "outputId": "90d27dd9-0ccf-42e0-c6b6-a3f7deb8e0d8"
      },
      "execution_count": null,
      "outputs": [
        {
          "output_type": "execute_result",
          "data": {
            "text/plain": [
              "'1'"
            ],
            "application/vnd.google.colaboratory.intrinsic+json": {
              "type": "string"
            }
          },
          "metadata": {},
          "execution_count": 15
        }
      ]
    },
    {
      "cell_type": "code",
      "source": [
        "test_path = '/content/gdrive/MyDrive/Ocr/plate_ocr_dataset/test'"
      ],
      "metadata": {
        "id": "EWxaGN6L049p"
      },
      "execution_count": null,
      "outputs": []
    },
    {
      "cell_type": "code",
      "source": [
        "\n",
        "test_imgs = []\n",
        "test_labels = []\n",
        "for indx, subdir in enumerate(subdirs):\n",
        "  imgfolder = os.path.join(test_path, subdir)\n",
        "  if os.path.exists(imgfolder):\n",
        "    for imgname in os.listdir(imgfolder):\n",
        "      img = cv.imread(os.path.join(imgfolder, imgname), 0)\n",
        "      test_imgs.append(img)\n",
        "      test_labels.append(labels_nums[indx])\n",
        "\n",
        "c = list(zip(test_imgs, test_labels))\n",
        "random.shuffle(c)\n",
        "test_imgs, test_labels = zip(*c)\n",
        "\n",
        "test_images = np.array(test_imgs)\n",
        "test_labels = np.array(test_labels)"
      ],
      "metadata": {
        "id": "J0NIyxDKgTqe"
      },
      "execution_count": null,
      "outputs": []
    },
    {
      "cell_type": "code",
      "source": [
        "predictions = ocr_model.predict(test_images)"
      ],
      "metadata": {
        "id": "dF48CNl4gVHy",
        "colab": {
          "base_uri": "https://localhost:8080/"
        },
        "outputId": "738a21e7-9300-4813-9a99-4fdfe6285588"
      },
      "execution_count": null,
      "outputs": [
        {
          "output_type": "stream",
          "name": "stdout",
          "text": [
            "13/13 [==============================] - 0s 4ms/step\n"
          ]
        }
      ]
    },
    {
      "cell_type": "code",
      "source": [
        "\n",
        "num=15\n",
        "print(class_names[np.argmax(predictions[num])])\n",
        "print(np.argmax(predictions[num]))\n",
        "plt.imshow(test_images[num])"
      ],
      "metadata": {
        "id": "Z56UoL5-gWtS",
        "colab": {
          "base_uri": "https://localhost:8080/",
          "height": 482
        },
        "outputId": "60d3675a-d33f-4682-f1b9-c65e304f5588"
      },
      "execution_count": null,
      "outputs": [
        {
          "output_type": "stream",
          "name": "stdout",
          "text": [
            "r\n",
            "28\n"
          ]
        },
        {
          "output_type": "execute_result",
          "data": {
            "text/plain": [
              "<matplotlib.image.AxesImage at 0x7e11c8401c90>"
            ]
          },
          "metadata": {},
          "execution_count": 47
        },
        {
          "output_type": "display_data",
          "data": {
            "text/plain": [
              "<Figure size 640x480 with 1 Axes>"
            ],
            "image/png": "[encoded data removed]"
          },
          "metadata": {}
        }
      ]
    },
    {
      "cell_type": "code",
      "source": [
        "y_predicted = ocr_model.predict(test_images)\n",
        "y_predicted_labels = [np.argmax(i) for i in y_predicted]\n",
        "\n",
        "cm = tf.math.confusion_matrix(labels=test_labels, predictions=y_predicted_labels)\n",
        "\n",
        "import seaborn as sn\n",
        "plt.figure(figsize = (10,7))\n",
        "sn.heatmap(cm, annot=True, fmt='d')\n",
        "plt.xlabel('Predicted')\n",
        "plt.ylabel('Truth')"
      ],
      "metadata": {
        "id": "_0TYNzZpgYuW",
        "colab": {
          "base_uri": "https://localhost:8080/",
          "height": 663
        },
        "outputId": "3af2a8a1-06f8-4148-aad1-0b19da020bdf"
      },
      "execution_count": null,
      "outputs": [
        {
          "output_type": "stream",
          "name": "stdout",
          "text": [
            "13/13 [==============================] - 0s 3ms/step\n"
          ]
        },
        {
          "output_type": "execute_result",
          "data": {
            "text/plain": [
              "Text(95.72222222222221, 0.5, 'Truth')"
            ]
          },
          "metadata": {},
          "execution_count": 49
        },
        {
          "output_type": "display_data",
          "data": {
            "text/plain": [
              "<Figure size 1000x700 with 2 Axes>"
            ],
            "image/png": "[encoded data removed]"
          },
          "metadata": {}
        }
      ]
    },
    {
      "cell_type": "code",
      "source": [
        "from sklearn.metrics import accuracy_score\n",
        "\n",
        "accuracy = accuracy_score(test_labels, y_predicted_labels)\n",
        "print(\"Accuracy:\", accuracy)"
      ],
      "metadata": {
        "colab": {
          "base_uri": "https://localhost:8080/"
        },
        "id": "civYFe9O6TnT",
        "outputId": "19128c71-5ceb-443f-9b8f-8347592d7a7d"
      },
      "execution_count": null,
      "outputs": [
        {
          "output_type": "stream",
          "name": "stdout",
          "text": [
            "Accuracy: 0.8190954773869347\n"
          ]
        }
      ]
    }
  ]
}