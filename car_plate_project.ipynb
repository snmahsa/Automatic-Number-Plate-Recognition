{
  "nbformat": 4,
  "nbformat_minor": 0,
  "metadata": {
    "colab": {
      "provenance": []
    },
    "kernelspec": {
      "name": "python3",
      "display_name": "Python 3"
    },
    "language_info": {
      "name": "python"
    }
  },
  "cells": [
    {
      "cell_type": "code",
      "execution_count": null,
      "metadata": {
        "colab": {
          "base_uri": "https://localhost:8080/"
        },
        "id": "ERbwmZZRpHrq",
        "outputId": "3e8e33f6-6704-4017-dc61-ee56957a5546"
      },
      "outputs": [
        {
          "output_type": "stream",
          "name": "stdout",
          "text": [
            "Mounted at /content/gdrive\n"
          ]
        }
      ],
      "source": [
        "from google.colab import drive\n",
        "drive.mount('/content/gdrive')"
      ]
    },
    {
      "cell_type": "code",
      "source": [
        "%%capture\n",
        "!pip install ultralytics"
      ],
      "metadata": {
        "id": "TyAhx05Mp4mf"
      },
      "execution_count": null,
      "outputs": []
    },
    {
      "cell_type": "code",
      "source": [
        "save_path = '/content/gdrive/MyDrive/CarLiecenceProject/Sidebar'\n",
        "source = '/content/gdrive/MyDrive/CarLiecenceProject/Source'\n",
        "video = source + '/test_video.mp4'\n",
        "weights = '/content/gdrive/MyDrive/CarLiecenceProject/Yolo8/weights/best.pt'"
      ],
      "metadata": {
        "id": "3RZt1jA93OAY"
      },
      "execution_count": null,
      "outputs": []
    },
    {
      "cell_type": "code",
      "source": [
        "image_size = 640\n",
        "trace = True"
      ],
      "metadata": {
        "id": "JIf2t2bZ7hBj"
      },
      "execution_count": null,
      "outputs": []
    },
    {
      "cell_type": "code",
      "source": [
        "%cd /content/gdrive/MyDrive/CarLiecenceProject"
      ],
      "metadata": {
        "colab": {
          "base_uri": "https://localhost:8080/"
        },
        "id": "hCZCOOh4WBvH",
        "outputId": "d4825fe8-c939-4ad5-ed71-9bd71d1ece9e"
      },
      "execution_count": null,
      "outputs": [
        {
          "output_type": "stream",
          "name": "stdout",
          "text": [
            "/content/gdrive/MyDrive/CarLiecenceProject\n"
          ]
        }
      ]
    },
    {
      "cell_type": "code",
      "source": [
        "# from deep_sort_realtime.deepsort_tracker import DeepSortimport fileinput\n",
        "import os\n",
        "from pathlib import Path\n",
        "from typing import Union\n",
        "import torch\n",
        "import cv2 as cv\n",
        "import numpy as np\n",
        "import re\n",
        "import matplotlib.pyplot as plt\n"
      ],
      "metadata": {
        "id": "_P0Qb67mqz9Z"
      },
      "execution_count": null,
      "outputs": []
    }
  ]
}